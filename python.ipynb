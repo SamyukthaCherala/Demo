{
 "cells": [
  {
   "cell_type": "code",
   "execution_count": 18,
   "id": "138fc35f",
   "metadata": {},
   "outputs": [
    {
     "name": "stdout",
     "output_type": "stream",
     "text": [
      "noh\n"
     ]
    }
   ],
   "source": [
    "str1 = \"Python\"; #Assigning \n",
    "replacedStr = str1.replace(\"Pyt\",\"\"); #Deleting characters/replacing with NULL\n",
    "print(replacedStr[::-1]); #Reversing a string"
   ]
  },
  {
   "cell_type": "code",
   "execution_count": 19,
   "id": "03549e29",
   "metadata": {},
   "outputs": [
    {
     "name": "stdout",
     "output_type": "stream",
     "text": [
      "Enter First Number:24\n",
      "Enter Second Number:42\n",
      "66\n",
      "-18\n",
      "1008\n",
      "0.5714285714285714\n"
     ]
    }
   ],
   "source": [
    "num1= int(input(\"Enter First Number:\"));\n",
    "num2= int(input(\"Enter Second Number:\"));\n",
    "print(num1+num2); #Addition\n",
    "print(num1-num2); #Substraction\n",
    "print(num1*num2); #Multiplication\n",
    "print(num1/num2); #Division"
   ]
  },
  {
   "cell_type": "code",
   "execution_count": 20,
   "id": "4c00b377",
   "metadata": {},
   "outputs": [
    {
     "name": "stdout",
     "output_type": "stream",
     "text": [
      "I love playing with pythons\n"
     ]
    }
   ],
   "source": [
    "str1 = \"I love playing with python\";\n",
    "print(str1.replace('python','pythons')); #Replacing\n"
   ]
  },
  {
   "cell_type": "code",
   "execution_count": 21,
   "id": "48ce0610",
   "metadata": {},
   "outputs": [
    {
     "name": "stdout",
     "output_type": "stream",
     "text": [
      "Enter your score:98\n",
      "A Grade\n"
     ]
    }
   ],
   "source": [
    "score = int(input(\"Enter your score:\")); #Taking input score from the user\n",
    "\n",
    "#if-elif-else suite to check the grade for the given score\n",
    "if score >= 90 and score <=100:\n",
    "    print(\"A Grade\");\n",
    "elif score >= 80 and score <=89:\n",
    "    print(\"B Grade\");\n",
    "elif score >= 70 and score <=79:\n",
    "    print(\"C Grade\");\n",
    "elif score >= 60 and score <=69:\n",
    "    print(\"D Grade\");\n",
    "else:\n",
    "    print(\"F Grade\");"
   ]
  },
  {
   "cell_type": "code",
   "execution_count": null,
   "id": "91da1028",
   "metadata": {},
   "outputs": [],
   "source": []
  }
 ],
 "metadata": {
  "kernelspec": {
   "display_name": "Python 3 (ipykernel)",
   "language": "python",
   "name": "python3"
  },
  "language_info": {
   "codemirror_mode": {
    "name": "ipython",
    "version": 3
   },
   "file_extension": ".py",
   "mimetype": "text/x-python",
   "name": "python",
   "nbconvert_exporter": "python",
   "pygments_lexer": "ipython3",
   "version": "3.9.13"
  }
 },
 "nbformat": 4,
 "nbformat_minor": 5
}
